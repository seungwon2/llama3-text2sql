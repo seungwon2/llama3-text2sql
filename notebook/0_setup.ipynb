{
 "cells": [
  {
   "cell_type": "markdown",
   "metadata": {},
   "source": [
    "# Amazon Sagemaker Notebook 인스턴스 셋업하기"
   ]
  },
  {
   "cell_type": "markdown",
   "metadata": {},
   "source": [
    "![step1](../images/setup_1.png)\n",
    "\n",
    "- 위 그림과 같이 Amazon SageMaker ->  Notebook에서 인스턴스를 생성한 후 **Open JupyterLab**을 선택합니다.\n",
    "    - 예제에서는 ml.t3.medium을 사용했습니다.\n",
    "- 인스턴스를 만들 시에 iam role에 **s3 접근 권한을 반드시 추가**해주세요."
   ]
  },
  {
   "cell_type": "markdown",
   "metadata": {},
   "source": [
    "![step2](../images/setup2.png)\n",
    "- 위 그림과 같이 Git -> Clone a Repository 선택 후 `https://github.com/seungwon2/llama3-text2sql.git`을 입력하여 저장소를 clone 합니다."
   ]
  },
  {
   "cell_type": "markdown",
   "metadata": {},
   "source": [
    "# 기본 권한 설정 확인"
   ]
  },
  {
   "cell_type": "markdown",
   "metadata": {},
   "source": [
    "- 사용한 커널: `conda_pytorch_p310`"
   ]
  },
  {
   "cell_type": "code",
   "execution_count": null,
   "metadata": {},
   "outputs": [],
   "source": [
    "!pip uninstall autogluon autogluon-multimodal -y\n",
    "!pip install sagemaker huggingface_hub datasets --upgrade --quiet"
   ]
  },
  {
   "cell_type": "code",
   "execution_count": null,
   "metadata": {},
   "outputs": [],
   "source": [
    "%pip list | grep -e torch -e datasets"
   ]
  },
  {
   "cell_type": "markdown",
   "metadata": {},
   "source": [
    "## Huggin face 권한\n",
    "\n",
    "⚠️ 이 예제에서는 llama 3 8B 모델을 hugging face에서 가져옵니다. 아래 링크를 따라 로그인에 사용할 **허깅 페이스 토큰**과 **llama 3 8B 모델 접근 권한 허가**를 받으세요.\n",
    "\n",
    "- [허깅 페이스 토큰 받기](https://huggingface.co/docs/hub/en/security-tokens)\n",
    "- [llama3 8B](https://huggingface.co/meta-llama/Meta-Llama-3-8B)모델 접근 권한 얻기 (참고: [권한 얻기 가이드](https://huggingface.co/docs/hub/en/models-gated))"
   ]
  },
  {
   "cell_type": "code",
   "execution_count": null,
   "metadata": {},
   "outputs": [],
   "source": [
    "from huggingface_hub import notebook_login\n",
    "\n",
    "\n",
    "notebook_login()"
   ]
  },
  {
   "cell_type": "markdown",
   "metadata": {},
   "source": [
    "## Sagemaker 리소스 확인"
   ]
  },
  {
   "cell_type": "code",
   "execution_count": null,
   "metadata": {},
   "outputs": [],
   "source": [
    "import sagemaker\n",
    "import boto3\n",
    "\n",
    "sess = sagemaker.Session()\n",
    "\n",
    "sagemaker_session_bucket=None\n",
    "if sagemaker_session_bucket is None and sess is not None:\n",
    "    sagemaker_session_bucket = sess.default_bucket()\n",
    "    \n",
    "try:\n",
    "    role = sagemaker.get_execution_role()\n",
    "except ValueError:\n",
    "    iam = boto3.client('iam')\n",
    "    role = iam.get_role(RoleName='sagemaker_execution_role')['Role']['Arn']\n",
    "    \n",
    "sess = sagemaker.Session(default_bucket=sagemaker_session_bucket)\n",
    " \n",
    "print(f\"sagemaker role arn: {role}\")\n",
    "print(f\"sagemaker bucket: {sess.default_bucket()}\")\n",
    "print(f\"sagemaker session region: {sess.boto_region_name}\")"
   ]
  }
 ],
 "metadata": {
  "language_info": {
   "name": "python"
  }
 },
 "nbformat": 4,
 "nbformat_minor": 2
}
