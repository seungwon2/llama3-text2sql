{
 "cells": [
  {
   "cell_type": "markdown",
   "metadata": {},
   "source": [
    "# 01 Data preprocessing\n",
    "\n",
    "- 이 단계에서는 데이터 셋을 다운받고, Amazon Translate을 사용해 한국어로 번역한 후 Amazon S3에 저장하는 과정을 수행합니다."
   ]
  },
  {
   "cell_type": "markdown",
   "metadata": {},
   "source": [
    "### 데이터셋 불러오기"
   ]
  },
  {
   "cell_type": "code",
   "execution_count": 1,
   "metadata": {},
   "outputs": [
    {
     "ename": "ModuleNotFoundError",
     "evalue": "No module named 'datasets'",
     "output_type": "error",
     "traceback": [
      "\u001b[0;31m---------------------------------------------------------------------------\u001b[0m",
      "\u001b[0;31mModuleNotFoundError\u001b[0m                       Traceback (most recent call last)",
      "Cell \u001b[0;32mIn[1], line 1\u001b[0m\n\u001b[0;32m----> 1\u001b[0m \u001b[38;5;28;01mfrom\u001b[39;00m \u001b[38;5;21;01mdatasets\u001b[39;00m \u001b[38;5;28;01mimport\u001b[39;00m load_dataset\n\u001b[1;32m      3\u001b[0m \u001b[38;5;66;03m# 데이터셋 불러오기\u001b[39;00m\n\u001b[1;32m      4\u001b[0m dataset \u001b[38;5;241m=\u001b[39m load_dataset(\u001b[38;5;124m\"\u001b[39m\u001b[38;5;124mb-mc2/sql-create-context\u001b[39m\u001b[38;5;124m\"\u001b[39m)\n",
      "\u001b[0;31mModuleNotFoundError\u001b[0m: No module named 'datasets'"
     ]
    }
   ],
   "source": [
    "from datasets import load_dataset\n",
    "\n",
    "# 데이터셋 불러오기\n",
    "dataset = load_dataset(\"b-mc2/sql-create-context\")\n",
    "\n",
    "# 'train' split에서 첫 번째 샘플 출력\n",
    "print(\"전문: \", dataset['train'][0])\n",
    "print(\"#######구분해서 보기######\")\n",
    "sample = dataset['train'][0]\n",
    "print(\"Answer:\", sample['answer'])\n",
    "print(\"Question:\", sample['question'])\n",
    "print(\"Context:\", sample['context'])"
   ]
  },
  {
   "cell_type": "markdown",
   "metadata": {},
   "source": [
    "### Amazon Translate으로 데이터 한국어로 번역하기"
   ]
  },
  {
   "cell_type": "code",
   "execution_count": null,
   "metadata": {},
   "outputs": [],
   "source": [
    "from datasets import load_dataset\n",
    "import boto3\n",
    "\n",
    "# AWS 클라이언트 생성\n",
    "translate = boto3.client(service_name='translate', region_name='us-east-1')\n",
    "\n",
    "# 데이터셋 불러오기\n",
    "dataset = load_dataset(\"b-mc2/sql-create-context\")\n",
    "\n",
    "# 'question' 열 추출 및 번역\n",
    "translated_dataset = dataset.map(\n",
    "    lambda sample: {\n",
    "        'answer': sample['answer'],\n",
    "        'question': [\n",
    "            translate.translate_text(Text=question, SourceLanguageCode=\"en\", TargetLanguageCode=\"ko\").get('TranslatedText')\n",
    "            for question in sample['question']\n",
    "        ],\n",
    "        'context': sample['context']\n",
    "    },\n",
    "    batched=True,\n",
    "    desc=\"Translating questions to Korean\"\n",
    ")\n",
    "\n",
    "# 번역된 데이터셋 저장\n",
    "translated_dataset.save_to_disk('data/ko_train_data/train')"
   ]
  }
 ],
 "metadata": {
  "kernelspec": {
   "display_name": "Python 3",
   "language": "python",
   "name": "python3"
  },
  "language_info": {
   "codemirror_mode": {
    "name": "ipython",
    "version": 3
   },
   "file_extension": ".py",
   "mimetype": "text/x-python",
   "name": "python",
   "nbconvert_exporter": "python",
   "pygments_lexer": "ipython3",
   "version": "3.11.9"
  }
 },
 "nbformat": 4,
 "nbformat_minor": 2
}
